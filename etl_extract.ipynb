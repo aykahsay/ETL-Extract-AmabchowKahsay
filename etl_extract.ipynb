{
 "cells": [
  {
   "cell_type": "markdown",
   "id": "b7c75b21",
   "metadata": {},
   "source": [
    "# ETL Extract Lab - DSA 2040A"
   ]
  },
  {
   "cell_type": "markdown",
   "id": "73026fea",
   "metadata": {},
   "source": [
    "\n",
    "## Project Setup\n",
    " This notebook demonstrates:\n",
    "- Full dataset extraction\n",
    "- Incremental extraction based on last run timestamp\n",
    "- Proper ETL workflow practices\n"
   ]
  },
  {
   "cell_type": "code",
   "execution_count": 24,
   "id": "73922386",
   "metadata": {},
   "outputs": [],
   "source": [
    "#Import Required Libraries\n",
    "import pandas as pd\n",
    "from datetime import datetime"
   ]
  },
  {
   "cell_type": "code",
   "execution_count": 25,
   "id": "8010bf75",
   "metadata": {},
   "outputs": [],
   "source": [
    "# Section 1: Full Extraction\n",
    "\n",
    "# %%\n",
    "def full_extraction(file_path):\n",
    "    \"\"\"Perform a full extraction of the dataset\"\"\"\n",
    "    try:\n",
    "        df = pd.read_csv(file_path)\n",
    "        print(\"Full extraction completed successfully.\")\n",
    "        print(f\"Extracted {len(df)} rows fully.\")\n",
    "        \n",
    "        # Display basic stats\n",
    "        print(\"\\nDataset Info:\")\n",
    "        print(df.info())\n",
    "        \n",
    "        print(\"\\nSample Data:\")\n",
    "        return df.head()\n",
    "    except Exception as e:\n",
    "        print(f\"Error during full extraction: {e}\")\n",
    "        return None\n"
   ]
  },
  {
   "cell_type": "code",
   "execution_count": 27,
   "id": "8b8a1c9d",
   "metadata": {},
   "outputs": [
    {
     "name": "stdout",
     "output_type": "stream",
     "text": [
      "Full extraction completed successfully.\n",
      "Extracted 1000 rows fully.\n",
      "\n",
      "Dataset Info:\n",
      "<class 'pandas.core.frame.DataFrame'>\n",
      "RangeIndex: 1000 entries, 0 to 999\n",
      "Data columns (total 9 columns):\n",
      " #   Column            Non-Null Count  Dtype \n",
      "---  ------            --------------  ----- \n",
      " 0   Transaction ID    1000 non-null   int64 \n",
      " 1   Date              1000 non-null   object\n",
      " 2   Customer ID       1000 non-null   object\n",
      " 3   Gender            1000 non-null   object\n",
      " 4   Age               1000 non-null   int64 \n",
      " 5   Product Category  1000 non-null   object\n",
      " 6   Quantity          1000 non-null   int64 \n",
      " 7   Price per Unit    1000 non-null   int64 \n",
      " 8   Total Amount      1000 non-null   int64 \n",
      "dtypes: int64(5), object(4)\n",
      "memory usage: 70.4+ KB\n",
      "None\n",
      "\n",
      "Sample Data:\n"
     ]
    },
    {
     "data": {
      "application/vnd.microsoft.datawrangler.viewer.v0+json": {
       "columns": [
        {
         "name": "index",
         "rawType": "int64",
         "type": "integer"
        },
        {
         "name": "Transaction ID",
         "rawType": "int64",
         "type": "integer"
        },
        {
         "name": "Date",
         "rawType": "object",
         "type": "string"
        },
        {
         "name": "Customer ID",
         "rawType": "object",
         "type": "string"
        },
        {
         "name": "Gender",
         "rawType": "object",
         "type": "string"
        },
        {
         "name": "Age",
         "rawType": "int64",
         "type": "integer"
        },
        {
         "name": "Product Category",
         "rawType": "object",
         "type": "string"
        },
        {
         "name": "Quantity",
         "rawType": "int64",
         "type": "integer"
        },
        {
         "name": "Price per Unit",
         "rawType": "int64",
         "type": "integer"
        },
        {
         "name": "Total Amount",
         "rawType": "int64",
         "type": "integer"
        }
       ],
       "ref": "119c3d12-a58e-46e9-8475-239a32dd1906",
       "rows": [
        [
         "0",
         "1",
         "2023-11-24",
         "CUST001",
         "Male",
         "34",
         "Beauty",
         "3",
         "50",
         "150"
        ],
        [
         "1",
         "2",
         "2023-02-27",
         "CUST002",
         "Female",
         "26",
         "Clothing",
         "2",
         "500",
         "1000"
        ],
        [
         "2",
         "3",
         "2023-01-13",
         "CUST003",
         "Male",
         "50",
         "Electronics",
         "1",
         "30",
         "30"
        ],
        [
         "3",
         "4",
         "2023-05-21",
         "CUST004",
         "Male",
         "37",
         "Clothing",
         "1",
         "500",
         "500"
        ],
        [
         "4",
         "5",
         "2023-05-06",
         "CUST005",
         "Male",
         "30",
         "Beauty",
         "2",
         "50",
         "100"
        ]
       ],
       "shape": {
        "columns": 9,
        "rows": 5
       }
      },
      "text/html": [
       "<div>\n",
       "<style scoped>\n",
       "    .dataframe tbody tr th:only-of-type {\n",
       "        vertical-align: middle;\n",
       "    }\n",
       "\n",
       "    .dataframe tbody tr th {\n",
       "        vertical-align: top;\n",
       "    }\n",
       "\n",
       "    .dataframe thead th {\n",
       "        text-align: right;\n",
       "    }\n",
       "</style>\n",
       "<table border=\"1\" class=\"dataframe\">\n",
       "  <thead>\n",
       "    <tr style=\"text-align: right;\">\n",
       "      <th></th>\n",
       "      <th>Transaction ID</th>\n",
       "      <th>Date</th>\n",
       "      <th>Customer ID</th>\n",
       "      <th>Gender</th>\n",
       "      <th>Age</th>\n",
       "      <th>Product Category</th>\n",
       "      <th>Quantity</th>\n",
       "      <th>Price per Unit</th>\n",
       "      <th>Total Amount</th>\n",
       "    </tr>\n",
       "  </thead>\n",
       "  <tbody>\n",
       "    <tr>\n",
       "      <th>0</th>\n",
       "      <td>1</td>\n",
       "      <td>2023-11-24</td>\n",
       "      <td>CUST001</td>\n",
       "      <td>Male</td>\n",
       "      <td>34</td>\n",
       "      <td>Beauty</td>\n",
       "      <td>3</td>\n",
       "      <td>50</td>\n",
       "      <td>150</td>\n",
       "    </tr>\n",
       "    <tr>\n",
       "      <th>1</th>\n",
       "      <td>2</td>\n",
       "      <td>2023-02-27</td>\n",
       "      <td>CUST002</td>\n",
       "      <td>Female</td>\n",
       "      <td>26</td>\n",
       "      <td>Clothing</td>\n",
       "      <td>2</td>\n",
       "      <td>500</td>\n",
       "      <td>1000</td>\n",
       "    </tr>\n",
       "    <tr>\n",
       "      <th>2</th>\n",
       "      <td>3</td>\n",
       "      <td>2023-01-13</td>\n",
       "      <td>CUST003</td>\n",
       "      <td>Male</td>\n",
       "      <td>50</td>\n",
       "      <td>Electronics</td>\n",
       "      <td>1</td>\n",
       "      <td>30</td>\n",
       "      <td>30</td>\n",
       "    </tr>\n",
       "    <tr>\n",
       "      <th>3</th>\n",
       "      <td>4</td>\n",
       "      <td>2023-05-21</td>\n",
       "      <td>CUST004</td>\n",
       "      <td>Male</td>\n",
       "      <td>37</td>\n",
       "      <td>Clothing</td>\n",
       "      <td>1</td>\n",
       "      <td>500</td>\n",
       "      <td>500</td>\n",
       "    </tr>\n",
       "    <tr>\n",
       "      <th>4</th>\n",
       "      <td>5</td>\n",
       "      <td>2023-05-06</td>\n",
       "      <td>CUST005</td>\n",
       "      <td>Male</td>\n",
       "      <td>30</td>\n",
       "      <td>Beauty</td>\n",
       "      <td>2</td>\n",
       "      <td>50</td>\n",
       "      <td>100</td>\n",
       "    </tr>\n",
       "  </tbody>\n",
       "</table>\n",
       "</div>"
      ],
      "text/plain": [
       "   Transaction ID        Date Customer ID  Gender  Age Product Category  \\\n",
       "0               1  2023-11-24     CUST001    Male   34           Beauty   \n",
       "1               2  2023-02-27     CUST002  Female   26         Clothing   \n",
       "2               3  2023-01-13     CUST003    Male   50      Electronics   \n",
       "3               4  2023-05-21     CUST004    Male   37         Clothing   \n",
       "4               5  2023-05-06     CUST005    Male   30           Beauty   \n",
       "\n",
       "   Quantity  Price per Unit  Total Amount  \n",
       "0         3              50           150  \n",
       "1         2             500          1000  \n",
       "2         1              30            30  \n",
       "3         1             500           500  \n",
       "4         2              50           100  "
      ]
     },
     "execution_count": 27,
     "metadata": {},
     "output_type": "execute_result"
    }
   ],
   "source": [
    "# Full extraction example\n",
    "file_path = \"custom_data.csv\"\n",
    "full_extraction(file_path)"
   ]
  },
  {
   "cell_type": "code",
   "execution_count": 28,
   "id": "35249efb",
   "metadata": {},
   "outputs": [
    {
     "name": "stdout",
     "output_type": "stream",
     "text": [
      "Last extraction was at: 2024-02-19 00:00:00\n",
      "Extracted 0 rows incrementally since last check.\n"
     ]
    }
   ],
   "source": [
    "# Incremental Extraction\n",
    "\n",
    "# %%\n",
    "def read_last_extraction_time():\n",
    "    \"\"\"Read the last extraction timestamp from file\"\"\"\n",
    "    try:\n",
    "        with open('last_extraction.txt', 'r') as f:\n",
    "            return datetime.strptime(f.read().strip(), '%Y-%m-%d %H:%M:%S')\n",
    "    except (FileNotFoundError, ValueError):\n",
    "        # Default to beginning of time if file doesn't exist\n",
    "        return datetime.min\n",
    "\n",
    "# %%\n",
    "def incremental_extraction(file_path):\n",
    "    \"\"\"Perform incremental extraction based on last run\"\"\"\n",
    "    try:\n",
    "        # Read the complete data\n",
    "        full_df = pd.read_csv(file_path)\n",
    "        \n",
    "        # Convert Date column to datetime\n",
    "        full_df['Date'] = pd.to_datetime(full_df['Date'])\n",
    "        \n",
    "        # Get last extraction time\n",
    "        last_time = read_last_extraction_time()\n",
    "        print(f\"Last extraction was at: {last_time}\")\n",
    "        \n",
    "        # Filter for new records\n",
    "        new_data = full_df[full_df['Date'] > last_time]\n",
    "        \n",
    "        print(f\"Extracted {len(new_data)} rows incrementally since last check.\")\n",
    "        return new_data\n",
    "    except Exception as e:\n",
    "        print(f\"Error during incremental extraction: {e}\")\n",
    "        return None\n",
    "\n",
    "# Example incremental extraction\n",
    "incremental_data = incremental_extraction(file_path)\n",
    "if incremental_data is not None and not incremental_data.empty:\n",
    "    print(\"\\nNew data since last extraction:\")\n",
    "    print(incremental_data)\n",
    "\n"
   ]
  },
  {
   "cell_type": "code",
   "execution_count": 29,
   "id": "83ce942c",
   "metadata": {},
   "outputs": [
    {
     "name": "stdout",
     "output_type": "stream",
     "text": [
      "Updated last extraction time to: 2025-06-10 18:45:58\n"
     ]
    }
   ],
   "source": [
    "\n",
    "# Section 3: Save New Timestamp\n",
    "# %%\n",
    "def update_extraction_time():\n",
    "    \"\"\"Update the last extraction timestamp to current time\"\"\"\n",
    "    try:\n",
    "        current_time = datetime.now().strftime('%Y-%m-%d %H:%M:%S')\n",
    "        with open('last_extraction.txt', 'w') as f:\n",
    "            f.write(current_time)\n",
    "        print(f\"Updated last extraction time to: {current_time}\")\n",
    "    except Exception as e:\n",
    "        print(f\"Error updating extraction time: {e}\")\n",
    "\n",
    "# Update timestamp after successful incremental extraction\n",
    "update_extraction_time()"
   ]
  }
 ],
 "metadata": {
  "kernelspec": {
   "display_name": "Python 3",
   "language": "python",
   "name": "python3"
  },
  "language_info": {
   "codemirror_mode": {
    "name": "ipython",
    "version": 3
   },
   "file_extension": ".py",
   "mimetype": "text/x-python",
   "name": "python",
   "nbconvert_exporter": "python",
   "pygments_lexer": "ipython3",
   "version": "3.11.8"
  }
 },
 "nbformat": 4,
 "nbformat_minor": 5
}
