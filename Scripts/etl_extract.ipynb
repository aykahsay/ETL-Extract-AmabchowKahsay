# ETL Extract Lab - DSA 2040A
# Author: Austin Odera
# Student ID: YOUR_STUDENT_ID

import pandas as pd
from datetime import datetime

# Load dataset
DATA_PATH = 'retail_sales_dataset.csv'
TIMESTAMP_PATH = 'last_extraction.txt'

# -------------------------------
# Section 1: Full Extraction
# -------------------------------
print("🔄 Full Extraction in Progress...")

# Load the full dataset
df_full = pd.read_csv(DATA_PATH)

# Display stats
print(f"✅ Extracted {len(df_full)} rows fully.")
print(f"📊 Dataset shape: {df_full.shape}")
print("🔍 Sample Data:")
display(df_full.head())

# -------------------------------
# Section 2: Incremental Extraction
# -------------------------------
print("\n🔄 Incremental Extraction in Progress...")

# Assume your dataset has a datetime column — adjust name if needed
timestamp_column = 'date'  # change this if your column is different
df_full[timestamp_column] = pd.to_datetime(df_full[timestamp_column])

# Load last extraction time
try:
    with open(TIMESTAMP_PATH, 'r') as f:
        last_extraction = datetime.strptime(f.read().strip(), '%Y-%m-%d %H:%M:%S')
except FileNotFoundError:
    last_extraction = pd.Timestamp.min
    print("⚠️ No previous extraction found. Extracting all data.")

# Filter for new records
df_incremental = df_full[df_full[timestamp_column] > last_extraction]

# Display results
print(f"✅ Extracted {len(df_incremental)} rows incrementally since last check on {last_extraction}.")
display(df_incremental.head())

# -------------------------------
# Section 3: Save New Timestamp
# -------------------------------
if not df_incremental.empty:
    latest_time = df_incremental[timestamp_column].max()
    with open(TIMESTAMP_PATH, 'w') as f:
        f.write(latest_time.strftime('%Y-%m-%d %H:%M:%S'))
    print(f"🕒 Updated last_extraction.txt to: {latest_time}")
else:
    print("ℹ️ No new data found. Timestamp not updated.")
