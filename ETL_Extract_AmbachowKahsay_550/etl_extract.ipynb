{
 "cells": [
  {
   "cell_type": "markdown",
   "id": "b7c75b21",
   "metadata": {},
   "source": [
    "## ETL Extract Lab - DSA 2040A"
   ]
  },
  {
   "cell_type": "markdown",
   "id": "73026fea",
   "metadata": {},
   "source": [
    "\n",
    "## Project Setup\n",
    "This notebook demonstrates:\n",
    "\n",
    "➡️ Lab 3 Data Extraction\n",
    "- Full dataset extraction\n",
    "- Incremental extraction based on last run timestamp\n",
    "- Proper ETL workflow practices\n",
    "\n",
    "➡️ Lab 4 Transformation "
   ]
  },
  {
   "cell_type": "markdown",
   "id": "70239a4e",
   "metadata": {},
   "source": [
    "#### ➡️ Lab 3 Data Extraction"
   ]
  },
  {
   "cell_type": "code",
   "execution_count": 73,
   "id": "73922386",
   "metadata": {},
   "outputs": [],
   "source": [
    "#Import Required Libraries\n",
    "import pandas as pd\n",
    "from datetime import datetime"
   ]
  },
  {
   "cell_type": "markdown",
   "id": "0f3fa314",
   "metadata": {},
   "source": [
    "#### 🟨 Section 1: Full Extraction"
   ]
  },
  {
   "cell_type": "code",
   "execution_count": 75,
   "id": "8010bf75",
   "metadata": {},
   "outputs": [],
   "source": [
    "import pandas as pd\n",
    "\n",
    "def wrangle_full(csv_file):\n",
    "    \"\"\"Perform full extraction: Load dataset, show stats, sample\"\"\"\n",
    "    try:\n",
    "        df = pd.read_csv(csv_file)\n",
    "        \n",
    "        # Basic stats\n",
    "        print(\"✅ Full extraction completed successfully.\")\n",
    "        print(f\"Extracted {len(df)} rows fully.\")\n",
    "        print(f\"Number of columns: {df.shape[1]}\")\n",
    "        \n",
    "        print(\"\\n📊 Column Names:\")\n",
    "        print(df.columns.tolist())\n",
    "        \n",
    "        print(\"\\n🔍 Sample Records:\")\n",
    "        print(df.head())\n",
    "\n",
    "        return df\n",
    "    \n",
    "    except Exception as e:\n",
    "        print(\"❌ Error during full extraction:\", e)\n",
    "        return None\n",
    "\n"
   ]
  },
  {
   "cell_type": "code",
   "execution_count": 76,
   "id": "8b8a1c9d",
   "metadata": {},
   "outputs": [
    {
     "name": "stdout",
     "output_type": "stream",
     "text": [
      "✅ Full extraction completed successfully.\n",
      "Extracted 2003 rows fully.\n",
      "Number of columns: 8\n",
      "\n",
      "📊 Column Names:\n",
      "['Transaction ID', 'Date', 'Customer ID', 'Gender', 'Age', 'Product Category', 'Quantity', 'Price per Unit']\n",
      "\n",
      "🔍 Sample Records:\n",
      "  Transaction ID        Date Customer ID  Gender Age Product Category  \\\n",
      "0              1  2023-11-24     CUST001    Male  34           Beauty   \n",
      "1              2  2023-02-27     CUST002  Female  26         Clothing   \n",
      "2              3  2023-01-13     CUST003    Male  50      Electronics   \n",
      "3              4  2023-05-21     CUST004    Male  37         Clothing   \n",
      "4              5  2023-05-06     CUST005    Male  30           Beauty   \n",
      "\n",
      "  Quantity Price per Unit  \n",
      "0        3             50  \n",
      "1        2            500  \n",
      "2        1             30  \n",
      "3        1            500  \n",
      "4        2             50  \n"
     ]
    }
   ],
   "source": [
    "# Usage\n",
    "file_path = \"custom_data.csv\"\n",
    "df_full = wrangle_full(file_path)"
   ]
  },
  {
   "cell_type": "code",
   "execution_count": 77,
   "id": "b8546dfa",
   "metadata": {},
   "outputs": [
    {
     "name": "stdout",
     "output_type": "stream",
     "text": [
      "  Transaction ID        Date Customer ID  Gender Age Product Category  \\\n",
      "0              1  2023-11-24     CUST001    Male  34           Beauty   \n",
      "1              2  2023-02-27     CUST002  Female  26         Clothing   \n",
      "2              3  2023-01-13     CUST003    Male  50      Electronics   \n",
      "3              4  2023-05-21     CUST004    Male  37         Clothing   \n",
      "4              5  2023-05-06     CUST005    Male  30           Beauty   \n",
      "\n",
      "  Quantity Price per Unit  \n",
      "0        3             50  \n",
      "1        2            500  \n",
      "2        1             30  \n",
      "3        1            500  \n",
      "4        2             50  \n"
     ]
    }
   ],
   "source": [
    "print(df_full.head())"
   ]
  },
  {
   "cell_type": "code",
   "execution_count": 78,
   "id": "4da7c91b",
   "metadata": {},
   "outputs": [
    {
     "name": "stdout",
     "output_type": "stream",
     "text": [
      "📊 Dataset Info:\n",
      "<class 'pandas.core.frame.DataFrame'>\n",
      "RangeIndex: 2003 entries, 0 to 2002\n",
      "Data columns (total 8 columns):\n",
      " #   Column            Non-Null Count  Dtype \n",
      "---  ------            --------------  ----- \n",
      " 0   Transaction ID    2003 non-null   object\n",
      " 1   Date              2001 non-null   object\n",
      " 2   Customer ID       2001 non-null   object\n",
      " 3   Gender            2001 non-null   object\n",
      " 4   Age               2001 non-null   object\n",
      " 5   Product Category  2001 non-null   object\n",
      " 6   Quantity          2001 non-null   object\n",
      " 7   Price per Unit    2001 non-null   object\n",
      "dtypes: object(8)\n",
      "memory usage: 125.3+ KB\n",
      "None\n"
     ]
    }
   ],
   "source": [
    "print(\"📊 Dataset Info:\")\n",
    "print(df_full.info())"
   ]
  },
  {
   "cell_type": "code",
   "execution_count": 79,
   "id": "515d31a8",
   "metadata": {},
   "outputs": [
    {
     "name": "stdout",
     "output_type": "stream",
     "text": [
      "📅 Earliest date in data: 2023-01-01 00:00:00\n",
      "📅 Latest date in data: 2024-01-01 00:00:00\n"
     ]
    }
   ],
   "source": [
    "# Ensure the 'Date' column is in datetime format\n",
    "df_full['Date'] = pd.to_datetime(df_full['Date'], errors='coerce')\n",
    "\n",
    "# Drop any rows where the date could not be parsed\n",
    "df_full = df_full.dropna(subset=['Date'])\n",
    "\n",
    "# Display the earliest and latest dates\n",
    "start_date = df_full['Date'].min()\n",
    "end_date = df_full['Date'].max()\n",
    "\n",
    "print(f\"📅 Earliest date in data: {start_date}\")\n",
    "print(f\"📅 Latest date in data: {end_date}\")"
   ]
  },
  {
   "cell_type": "code",
   "execution_count": 80,
   "id": "694784fa",
   "metadata": {},
   "outputs": [
    {
     "data": {
      "application/vnd.microsoft.datawrangler.viewer.v0+json": {
       "columns": [
        {
         "name": "index",
         "rawType": "int64",
         "type": "integer"
        },
        {
         "name": "Transaction ID",
         "rawType": "object",
         "type": "string"
        },
        {
         "name": "Date",
         "rawType": "datetime64[ns]",
         "type": "datetime"
        },
        {
         "name": "Customer ID",
         "rawType": "object",
         "type": "string"
        },
        {
         "name": "Gender",
         "rawType": "object",
         "type": "string"
        },
        {
         "name": "Age",
         "rawType": "object",
         "type": "string"
        },
        {
         "name": "Product Category",
         "rawType": "object",
         "type": "string"
        },
        {
         "name": "Quantity",
         "rawType": "object",
         "type": "string"
        },
        {
         "name": "Price per Unit",
         "rawType": "object",
         "type": "string"
        }
       ],
       "ref": "c5ca3118-7b27-49d3-81d3-6d4568a3811c",
       "rows": [
        [
         "1990",
         "520",
         "2023-12-29 00:00:00",
         "CUST520",
         "Female",
         "49",
         "Electronics",
         "4",
         "25"
        ],
        [
         "1991",
         "520",
         "2023-12-29 00:00:00",
         "CUST520",
         "Female",
         "49",
         "Electronics",
         "4",
         "25"
        ],
        [
         "1992",
         "233",
         "2023-12-29 00:00:00",
         "CUST233",
         "Female",
         "51",
         "Beauty",
         "2",
         "300"
        ],
        [
         "1993",
         "233",
         "2023-12-29 00:00:00",
         "CUST233",
         "Female",
         "51",
         "Beauty",
         "2",
         "300"
        ],
        [
         "1994",
         "857",
         "2023-12-31 00:00:00",
         "CUST857",
         "Male",
         "60",
         "Electronics",
         "2",
         "25"
        ],
        [
         "1995",
         "857",
         "2023-12-31 00:00:00",
         "CUST857",
         "Male",
         "60",
         "Electronics",
         "2",
         "25"
        ],
        [
         "1996",
         "650",
         "2024-01-01 00:00:00",
         "CUST650",
         "Male",
         "55",
         "Electronics",
         "1",
         "30"
        ],
        [
         "1997",
         "211",
         "2024-01-01 00:00:00",
         "CUST211",
         "Male",
         "42",
         "Beauty",
         "3",
         "500"
        ],
        [
         "1998",
         "650",
         "2024-01-01 00:00:00",
         "CUST650",
         "Male",
         "55",
         "Electronics",
         "1",
         "30"
        ],
        [
         "1999",
         "211",
         "2024-01-01 00:00:00",
         "CUST211",
         "Male",
         "42",
         "Beauty",
         "3",
         "500"
        ]
       ],
       "shape": {
        "columns": 8,
        "rows": 10
       }
      },
      "text/html": [
       "<div>\n",
       "<style scoped>\n",
       "    .dataframe tbody tr th:only-of-type {\n",
       "        vertical-align: middle;\n",
       "    }\n",
       "\n",
       "    .dataframe tbody tr th {\n",
       "        vertical-align: top;\n",
       "    }\n",
       "\n",
       "    .dataframe thead th {\n",
       "        text-align: right;\n",
       "    }\n",
       "</style>\n",
       "<table border=\"1\" class=\"dataframe\">\n",
       "  <thead>\n",
       "    <tr style=\"text-align: right;\">\n",
       "      <th></th>\n",
       "      <th>Transaction ID</th>\n",
       "      <th>Date</th>\n",
       "      <th>Customer ID</th>\n",
       "      <th>Gender</th>\n",
       "      <th>Age</th>\n",
       "      <th>Product Category</th>\n",
       "      <th>Quantity</th>\n",
       "      <th>Price per Unit</th>\n",
       "    </tr>\n",
       "  </thead>\n",
       "  <tbody>\n",
       "    <tr>\n",
       "      <th>1990</th>\n",
       "      <td>520</td>\n",
       "      <td>2023-12-29</td>\n",
       "      <td>CUST520</td>\n",
       "      <td>Female</td>\n",
       "      <td>49</td>\n",
       "      <td>Electronics</td>\n",
       "      <td>4</td>\n",
       "      <td>25</td>\n",
       "    </tr>\n",
       "    <tr>\n",
       "      <th>1991</th>\n",
       "      <td>520</td>\n",
       "      <td>2023-12-29</td>\n",
       "      <td>CUST520</td>\n",
       "      <td>Female</td>\n",
       "      <td>49</td>\n",
       "      <td>Electronics</td>\n",
       "      <td>4</td>\n",
       "      <td>25</td>\n",
       "    </tr>\n",
       "    <tr>\n",
       "      <th>1992</th>\n",
       "      <td>233</td>\n",
       "      <td>2023-12-29</td>\n",
       "      <td>CUST233</td>\n",
       "      <td>Female</td>\n",
       "      <td>51</td>\n",
       "      <td>Beauty</td>\n",
       "      <td>2</td>\n",
       "      <td>300</td>\n",
       "    </tr>\n",
       "    <tr>\n",
       "      <th>1993</th>\n",
       "      <td>233</td>\n",
       "      <td>2023-12-29</td>\n",
       "      <td>CUST233</td>\n",
       "      <td>Female</td>\n",
       "      <td>51</td>\n",
       "      <td>Beauty</td>\n",
       "      <td>2</td>\n",
       "      <td>300</td>\n",
       "    </tr>\n",
       "    <tr>\n",
       "      <th>1994</th>\n",
       "      <td>857</td>\n",
       "      <td>2023-12-31</td>\n",
       "      <td>CUST857</td>\n",
       "      <td>Male</td>\n",
       "      <td>60</td>\n",
       "      <td>Electronics</td>\n",
       "      <td>2</td>\n",
       "      <td>25</td>\n",
       "    </tr>\n",
       "    <tr>\n",
       "      <th>1995</th>\n",
       "      <td>857</td>\n",
       "      <td>2023-12-31</td>\n",
       "      <td>CUST857</td>\n",
       "      <td>Male</td>\n",
       "      <td>60</td>\n",
       "      <td>Electronics</td>\n",
       "      <td>2</td>\n",
       "      <td>25</td>\n",
       "    </tr>\n",
       "    <tr>\n",
       "      <th>1996</th>\n",
       "      <td>650</td>\n",
       "      <td>2024-01-01</td>\n",
       "      <td>CUST650</td>\n",
       "      <td>Male</td>\n",
       "      <td>55</td>\n",
       "      <td>Electronics</td>\n",
       "      <td>1</td>\n",
       "      <td>30</td>\n",
       "    </tr>\n",
       "    <tr>\n",
       "      <th>1997</th>\n",
       "      <td>211</td>\n",
       "      <td>2024-01-01</td>\n",
       "      <td>CUST211</td>\n",
       "      <td>Male</td>\n",
       "      <td>42</td>\n",
       "      <td>Beauty</td>\n",
       "      <td>3</td>\n",
       "      <td>500</td>\n",
       "    </tr>\n",
       "    <tr>\n",
       "      <th>1998</th>\n",
       "      <td>650</td>\n",
       "      <td>2024-01-01</td>\n",
       "      <td>CUST650</td>\n",
       "      <td>Male</td>\n",
       "      <td>55</td>\n",
       "      <td>Electronics</td>\n",
       "      <td>1</td>\n",
       "      <td>30</td>\n",
       "    </tr>\n",
       "    <tr>\n",
       "      <th>1999</th>\n",
       "      <td>211</td>\n",
       "      <td>2024-01-01</td>\n",
       "      <td>CUST211</td>\n",
       "      <td>Male</td>\n",
       "      <td>42</td>\n",
       "      <td>Beauty</td>\n",
       "      <td>3</td>\n",
       "      <td>500</td>\n",
       "    </tr>\n",
       "  </tbody>\n",
       "</table>\n",
       "</div>"
      ],
      "text/plain": [
       "     Transaction ID       Date Customer ID  Gender Age Product Category  \\\n",
       "1990            520 2023-12-29     CUST520  Female  49      Electronics   \n",
       "1991            520 2023-12-29     CUST520  Female  49      Electronics   \n",
       "1992            233 2023-12-29     CUST233  Female  51           Beauty   \n",
       "1993            233 2023-12-29     CUST233  Female  51           Beauty   \n",
       "1994            857 2023-12-31     CUST857    Male  60      Electronics   \n",
       "1995            857 2023-12-31     CUST857    Male  60      Electronics   \n",
       "1996            650 2024-01-01     CUST650    Male  55      Electronics   \n",
       "1997            211 2024-01-01     CUST211    Male  42           Beauty   \n",
       "1998            650 2024-01-01     CUST650    Male  55      Electronics   \n",
       "1999            211 2024-01-01     CUST211    Male  42           Beauty   \n",
       "\n",
       "     Quantity Price per Unit  \n",
       "1990        4             25  \n",
       "1991        4             25  \n",
       "1992        2            300  \n",
       "1993        2            300  \n",
       "1994        2             25  \n",
       "1995        2             25  \n",
       "1996        1             30  \n",
       "1997        3            500  \n",
       "1998        1             30  \n",
       "1999        3            500  "
      ]
     },
     "execution_count": 80,
     "metadata": {},
     "output_type": "execute_result"
    }
   ],
   "source": [
    "# Sort by Date in ascending order\n",
    "df_full = df_full.sort_values(by='Date', ascending=True).reset_index(drop=True)\n",
    "df_full.tail(10)"
   ]
  },
  {
   "cell_type": "markdown",
   "id": "77fa1fbd",
   "metadata": {},
   "source": [
    "###  🟨 Section 2: Incremental Extraction"
   ]
  },
  {
   "cell_type": "markdown",
   "id": "889e2a7a",
   "metadata": {},
   "source": [
    "🕒 Incremental Extraction using Timestamp\n",
    "\n",
    "In this ETL pipeline, incremental extraction is based on a saved timestamp stored in the `last_extraction.txt` file. \n",
    "\n",
    "For this lab, I manually set the timestamp to:"
   ]
  },
  {
   "cell_type": "code",
   "execution_count": 81,
   "id": "2b09e733",
   "metadata": {},
   "outputs": [],
   "source": [
    "def read_last_extraction_time(file_path='last_extraction.txt'):\n",
    "    try:\n",
    "        with open(file_path, 'r') as f:\n",
    "            return datetime.strptime(f.read().strip(), '%Y-%m-%d %H:%M:%S')\n",
    "    except (FileNotFoundError, ValueError):\n",
    "        return datetime.min\n",
    "\n",
    "def wrangle_incremental(csv_file, timestamp_file='last_extraction.txt'):\n",
    "    \"\"\"Extract only new or updated records based on last extraction time\"\"\"\n",
    "    try:\n",
    "        df = pd.read_csv(csv_file)\n",
    "\n",
    "        # Try parsing the Date column safely\n",
    "        df['Date'] = pd.to_datetime(df['Date'], errors='coerce', format='%Y-%m-%d')\n",
    "\n",
    "        # Drop rows where date couldn't be parsed\n",
    "        df = df.dropna(subset=['Date'])\n",
    "\n",
    "        # Ensure dates are sorted\n",
    "        df = df.sort_values('Date')\n",
    "\n",
    "        last_time = read_last_extraction_time(timestamp_file)\n",
    "        new_data = df[df['Date'] > last_time]\n",
    "\n",
    "        print(f\"✅ Extracted {len(new_data)} rows incrementally since last check ({last_time}).\")\n",
    "        return new_data\n",
    "    except Exception as e:\n",
    "        print(\"❌ Error during incremental extraction:\", e)\n",
    "        return pd.DataFrame()\n"
   ]
  },
  {
   "cell_type": "markdown",
   "id": "188ab3c6",
   "metadata": {},
   "source": [
    "### 🟩 Section 3: Save New Timestamp"
   ]
  },
  {
   "cell_type": "code",
   "execution_count": 82,
   "id": "f01ba098",
   "metadata": {},
   "outputs": [],
   "source": [
    "def update_extraction_time(file_path='last_extraction.txt', timestamp=None):\n",
    "    \"\"\"Updates the last_extraction.txt file with current or custom timestamp\"\"\"\n",
    "    try:\n",
    "        if timestamp is None:\n",
    "            timestamp = datetime.now()\n",
    "        with open(file_path, 'w') as f:\n",
    "            f.write(timestamp.strftime('%Y-%m-%d %H:%M:%S'))\n",
    "        print(f\"✅ Updated last extraction time to: {timestamp}\")\n",
    "    except Exception as e:\n",
    "        print(\"❌ Error writing to timestamp file:\", e)\n"
   ]
  },
  {
   "cell_type": "markdown",
   "id": "1884aca5",
   "metadata": {},
   "source": [
    "#### ✅ Example Incremental Extraction"
   ]
  },
  {
   "cell_type": "code",
   "execution_count": 58,
   "id": "b1aed064",
   "metadata": {},
   "outputs": [
    {
     "name": "stdout",
     "output_type": "stream",
     "text": [
      "✅ Extracted 0 rows incrementally since last check (2025-06-30 20:18:52).\n"
     ]
    }
   ],
   "source": [
    "# Extract new data since last time\n",
    "new_data = wrangle_incremental(\"custom_data.csv\")\n",
    "\n",
    "# Update the timestamp only if we found new data\n",
    "if not new_data.empty:\n",
    "    update_extraction_time()\n"
   ]
  },
  {
   "cell_type": "markdown",
   "id": "909603d3",
   "metadata": {},
   "source": [
    "#### Section 4: Checking Data Quality"
   ]
  },
  {
   "cell_type": "code",
   "execution_count": 96,
   "id": "560ed7a9",
   "metadata": {},
   "outputs": [],
   "source": [
    "import pandas as pd\n",
    "\n",
    "def check_data_quality(csv_file):\n",
    "    df = pd.read_csv(csv_file)\n",
    "    df.columns = df.columns.str.strip()  # Remove extra spaces in column names\n",
    "\n",
    "    print(\"📊 Data Quality Check Report\\n\")\n",
    "\n",
    "    # 1. Transaction ID\n",
    "    print(\"🔹 Transaction ID\")\n",
    "    print(f\" - Missing: {df['Transaction ID'].isna().sum()}\")\n",
    "    print(f\" - Duplicate IDs: {df['Transaction ID'].duplicated().sum()}\")\n",
    "    print(f\" - Unique IDs: {df['Transaction ID'].nunique()} of {len(df)} rows\\n\")\n",
    "\n",
    "    # 2. Date\n",
    "    print(\"🔹 Date\")\n",
    "    print(f\" - Missing: {df['Date'].isna().sum()}\")\n",
    "    try:\n",
    "        df['Date'] = pd.to_datetime(df['Date'], errors='raise')\n",
    "        print(\" - All dates parsed successfully\")\n",
    "        print(f\" - Date Range: {df['Date'].min()} to {df['Date'].max()}\\n\")\n",
    "    except Exception as e:\n",
    "        print(\" - Date parsing error ❌:\", e, \"\\n\")\n",
    "\n",
    "    # 3. Customer ID\n",
    "    print(\"🔹 Customer ID\")\n",
    "    print(f\" - Missing: {df['Customer ID'].isna().sum()}\")\n",
    "    print(f\" - Unique IDs: {df['Customer ID'].nunique()}\")\n",
    "    if df['Customer ID'].str.contains(' ').any():\n",
    "        print(\" - Warning: Some IDs contain extra spaces\")\n",
    "    print()\n",
    "\n",
    "    # 4. Gender\n",
    "    print(\"🔹 Gender\")\n",
    "    print(f\" - Missing: {df['Gender'].isna().sum()}\")\n",
    "    print(f\" - Unique Values: {df['Gender'].unique()}\")\n",
    "    valid_genders = {'M', 'F', 'Male', 'Female'}\n",
    "    if not set(df['Gender'].unique()).issubset(valid_genders):\n",
    "        print(\" - Warning: Unexpected gender labels found\")\n",
    "    print()\n",
    "\n",
    "    # 5. Age\n",
    "    print(\"🔹 Age\")\n",
    "    print(f\" - Missing: {df['Age'].isna().sum()}\")\n",
    "    try:\n",
    "        df['Age'] = pd.to_numeric(df['Age'], errors='coerce')\n",
    "        print(f\" - Min Age: {df['Age'].min()}, Max Age: {df['Age'].max()}\")\n",
    "        if df['Age'].min() < 0 or df['Age'].max() > 120:\n",
    "            print(\" - Warning: Age outliers detected\")\n",
    "    except:\n",
    "        print(\" - Age conversion error ❌\")\n",
    "    print()\n",
    "\n",
    "    # 6. Product Category\n",
    "    print(\"🔹 Product Category\")\n",
    "    print(f\" - Missing: {df['Product Category'].isna().sum()}\")\n",
    "    print(f\" - Unique Categories: {df['Product Category'].unique()}\")\n",
    "    print()\n",
    "\n",
    "    # 7. Quantity\n",
    "    print(\"🔹 Quantity\")\n",
    "    try:\n",
    "        df['Quantity'] = pd.to_numeric(df['Quantity'], errors='coerce')\n",
    "        print(f\" - Missing: {df['Quantity'].isna().sum()}\")\n",
    "        print(f\" - Min: {df['Quantity'].min()}, Max: {df['Quantity'].max()}\")\n",
    "        if (df['Quantity'] < 0).any():\n",
    "            print(\" - Warning: Negative quantities found\")\n",
    "    except:\n",
    "        print(\" - Quantity conversion error ❌\")\n",
    "    print()\n",
    "\n",
    "    # 8. Price per Unit\n",
    "    print(\"🔹 Price per Unit\")\n",
    "    try:\n",
    "        df['Price per Unit'] = pd.to_numeric(df['Price per Unit'], errors='coerce')\n",
    "        print(f\" - Missing: {df['Price per Unit'].isna().sum()}\")\n",
    "        print(f\" - Min: {df['Price per Unit'].min()}, Max: {df['Price per Unit'].max()}\")\n",
    "        if (df['Price per Unit'] < 0).any():\n",
    "            print(\" - Warning: Negative prices found\")\n",
    "    except:\n",
    "        print(\" - Price per Unit conversion error ❌\")\n",
    "    print()\n",
    "\n",
    "    # 9. Total Amount\n",
    "    print(\"🔹 Total Amount\")\n",
    "    if 'Total Amount' in df.columns:\n",
    "        try:\n",
    "            df['Total Amount'] = pd.to_numeric(df['Total Amount'], errors='coerce')\n",
    "            incorrect_total = (df['Total Amount'] != df['Quantity'] * df['Price per Unit']).sum()\n",
    "            print(f\" - Missing: {df['Total Amount'].isna().sum()}\")\n",
    "            print(f\" - Inconsistent Total Amounts: {incorrect_total}\")\n",
    "        except:\n",
    "            print(\" - Total Amount conversion or consistency check failed ❌\")\n",
    "    else:\n",
    "        print(\" - Total Amount column not found\")\n",
    "    print(\"\\n✅ Data quality check completed.\\n\")\n",
    "\n",
    "    return df\n"
   ]
  },
  {
   "cell_type": "code",
   "execution_count": 98,
   "id": "b26ad877",
   "metadata": {},
   "outputs": [
    {
     "name": "stdout",
     "output_type": "stream",
     "text": [
      "📊 Data Quality Check Report\n",
      "\n",
      "🔹 Transaction ID\n",
      " - Missing: 0\n",
      " - Duplicate IDs: 1000\n",
      " - Unique IDs: 1003 of 2003 rows\n",
      "\n",
      "🔹 Date\n",
      " - Missing: 2\n",
      " - Date parsing error ❌: time data \"Date\" doesn't match format \"%Y-%m-%d\", at position 1001. You might want to try:\n",
      "    - passing `format` if your strings have a consistent format;\n",
      "    - passing `format='ISO8601'` if your strings are all ISO8601 but not necessarily in exactly the same format;\n",
      "    - passing `format='mixed'`, and the format will be inferred for each element individually. You might want to use `dayfirst` alongside this. \n",
      "\n",
      "🔹 Customer ID\n",
      " - Missing: 2\n",
      " - Unique IDs: 1001\n",
      " - Warning: Some IDs contain extra spaces\n",
      "\n",
      "🔹 Gender\n",
      " - Missing: 2\n",
      " - Unique Values: ['Male' 'Female' nan 'Gender']\n",
      " - Warning: Unexpected gender labels found\n",
      "\n",
      "🔹 Age\n",
      " - Missing: 2\n",
      " - Min Age: 18.0, Max Age: 64.0\n",
      "\n",
      "🔹 Product Category\n",
      " - Missing: 2\n",
      " - Unique Categories: ['Beauty' 'Clothing' 'Electronics' nan 'Product Category']\n",
      "\n",
      "🔹 Quantity\n",
      " - Missing: 3\n",
      " - Min: 1.0, Max: 4.0\n",
      "\n",
      "🔹 Price per Unit\n",
      " - Missing: 3\n",
      " - Min: 25.0, Max: 500.0\n",
      "\n",
      "🔹 Total Amount\n",
      " - Total Amount column not found\n",
      "\n",
      "✅ Data quality check completed.\n",
      "\n"
     ]
    }
   ],
   "source": [
    "df_data_check = check_data_quality(\"custom_data.csv\")\n"
   ]
  },
  {
   "cell_type": "markdown",
   "id": "2856991e",
   "metadata": {},
   "source": [
    "### ➡️Lab 4 Transformation Checklist"
   ]
  },
  {
   "cell_type": "markdown",
   "id": "2fe26c3c",
   "metadata": {},
   "source": [
    "##### Transform Full Data"
   ]
  },
  {
   "cell_type": "code",
   "execution_count": 99,
   "id": "30eab981",
   "metadata": {},
   "outputs": [],
   "source": [
    "def transform_data(df):\n",
    "    # Cleaning\n",
    "    df = df.drop_duplicates()\n",
    "    \n",
    "    # Transaction ID\n",
    "    # Drop rows with missing Transaction ID\n",
    "    df = df.dropna(subset=['Transaction ID'])\n",
    "    # Convert to integer (if not already)\n",
    "    df['Transaction ID'] = df['Transaction ID'].astype(int)\n",
    "    # Remove duplicate Transaction IDs (keep first)\n",
    "    df = df.drop_duplicates(subset='Transaction ID')\n",
    "    # Optionally reassign Transaction ID to be sequential\n",
    "    df = df.sort_values('Transaction ID').reset_index(drop=True)\n",
    "    df['Transaction ID'] = range(1, len(df) + 1)\n",
    "    \n",
    "    # Customer ID\n",
    "    # Remove leading/trailing spaces\n",
    "    df['Customer ID'] = df['Customer ID'].astype(str).str.strip()\n",
    "    # Convert to uppercase (in case some are lowercase)\n",
    "    df['Customer ID'] = df['Customer ID'].str.upper()\n",
    "    # Fill missing values with placeholder (optional)\n",
    "    df['Customer ID'].fillna('UNKNOWN')\n",
    "    # Optional: Remove rows not matching the expected pattern (e.g., CUST123)\n",
    "    df = df[df['Customer ID'].str.match(r'^CUST\\d+$')]\n",
    "    \n",
    "    \n",
    "    # Quantity\n",
    "    # Fill missing values (choose median or zero based on business logic)\n",
    "    df['Quantity'] = pd.to_numeric(df['Quantity'], errors='coerce')  # Ensure numeric\n",
    "    df['Quantity'].fillna(0)\n",
    "    # Convert to integer (after filling)\n",
    "    df['Quantity'] = df['Quantity'].astype(int)\n",
    "    # Remove rows with zero or negative quantities (optional)\n",
    "    df = df[df['Quantity'] > 0]\n",
    "\n",
    "    \n",
    "    # Price per Unit\n",
    "    df['Price per Unit'] = df['Price per Unit'].fillna(0)\n",
    "    # Convert to numeric\n",
    "    df['Price per Unit'] = pd.to_numeric(df['Price per Unit'], errors='coerce')\n",
    "    # Fill missing values with median\n",
    "    median_price = df['Price per Unit'].median()\n",
    "    df['Price per Unit'].fillna(median_price)\n",
    "    # Remove non-positive prices (optional, depending on logic)\n",
    "    df = df[df['Price per Unit'] > 0]\n",
    "    \n",
    "    \n",
    "    # Date\n",
    "    # --- Date ---\n",
    "    df['Date'] = pd.to_datetime(df['Date'], errors='coerce', format='mixed')\n",
    "    df = df.dropna(subset=['Date'])\n",
    "    df = df.sort_values('Date').reset_index(drop=True)\n",
    "    # Gender\n",
    "    # Convert to lowercase and strip whitespace\n",
    "    df['Gender'] = df['Gender'].astype(str).str.strip().str.lower()\n",
    "\n",
    "    # Map common variations to standard form\n",
    "    gender_map = {\n",
    "        'm': 'Male',\n",
    "        'male': 'Male',\n",
    "        'f': 'Female',\n",
    "        'female': 'Female'\n",
    "    }\n",
    "    df['Gender'] = df['Gender'].map(gender_map)\n",
    "    # Drop rows with unexpected/invalid genders\n",
    "    df = df[df['Gender'].isin(['Male', 'Female'])]\n",
    "    \n",
    "    #Age\n",
    "    # Coerce errors during conversion (e.g., 'N/A' -> NaN)\n",
    "    df['Age'] = pd.to_numeric(df['Age'], errors='coerce')\n",
    "    # Fill missing ages with the median (or mean)\n",
    "    median_age = df['Age'].median()\n",
    "    df['Age'].fillna(median_age)\n",
    "    # Remove unrealistic ages\n",
    "    df = df[(df['Age'] >= 10) & (df['Age'] <= 100)]\n",
    "    # Convert to integer\n",
    "    df['Age'] = df['Age'].astype(int)\n",
    "    \n",
    "    # Product Category\n",
    "    df['Product Category'] = df['Product Category'].astype(str).str.strip().str.title()\n",
    "    \n",
    "    df['Total Amount'] = df['Quantity'] * df['Price per Unit']\n",
    "    # Save the result\n",
    "    return df\n"
   ]
  },
  {
   "cell_type": "markdown",
   "id": "6a91978e",
   "metadata": {},
   "source": [
    "#### 🔸1. Apply the Transformation to Full Data"
   ]
  },
  {
   "cell_type": "code",
   "execution_count": 100,
   "id": "c4c53281",
   "metadata": {},
   "outputs": [
    {
     "name": "stdout",
     "output_type": "stream",
     "text": [
      "✅ Transformed full data saved to transformed_full.csv\n"
     ]
    }
   ],
   "source": [
    "# Step 2: Apply the transformation\n",
    "transformed_full = transform_data(df_full)\n",
    "\n",
    "# Step 3: Save transformed data\n",
    "transformed_full.to_csv(\"transformed_full.csv\", index=False)\n",
    "print(\"✅ Transformed full data saved to transformed_full.csv\")"
   ]
  },
  {
   "cell_type": "markdown",
   "id": "279abb6f",
   "metadata": {},
   "source": [
    "#### 🔸 2. Apply the Transformation to Incremental Data"
   ]
  },
  {
   "cell_type": "code",
   "execution_count": null,
   "id": "2810d326",
   "metadata": {},
   "outputs": [],
   "source": [
    "# Step 1: Read incremental extracted data\n",
    "df_incremental = pd.read_csv(\"incremental_data.csv\")  # or your extracted DataFrame\n",
    "\n",
    "# Step 2: Apply transformation\n",
    "transformed_incremental = transform_data(df_incremental)\n",
    "\n",
    "# Step 3: Save transformed incremental data\n",
    "transformed_incremental.to_csv(\"transformed_incremental.csv\", index=False)\n",
    "print(\"✅ Transformed incremental data saved to transformed_incremental.csv\")"
   ]
  },
  {
   "cell_type": "markdown",
   "id": "3570ba13",
   "metadata": {},
   "source": []
  },
  {
   "cell_type": "markdown",
   "id": "fadce51e",
   "metadata": {},
   "source": []
  },
  {
   "cell_type": "markdown",
   "id": "4ba390b2",
   "metadata": {},
   "source": []
  },
  {
   "cell_type": "markdown",
   "id": "9ce26ea2",
   "metadata": {},
   "source": []
  },
  {
   "cell_type": "markdown",
   "id": "31b607d3",
   "metadata": {},
   "source": []
  },
  {
   "cell_type": "markdown",
   "id": "af6646cb",
   "metadata": {},
   "source": [
    "##### Understanding the Data "
   ]
  },
  {
   "cell_type": "markdown",
   "id": "aa1b8766",
   "metadata": {},
   "source": [
    "##### Order the data by Date"
   ]
  },
  {
   "cell_type": "code",
   "execution_count": null,
   "id": "7d1b7c06",
   "metadata": {},
   "outputs": [
    {
     "data": {
      "application/vnd.microsoft.datawrangler.viewer.v0+json": {
       "columns": [
        {
         "name": "index",
         "rawType": "int64",
         "type": "integer"
        },
        {
         "name": "Transaction ID",
         "rawType": "object",
         "type": "string"
        },
        {
         "name": "Date",
         "rawType": "datetime64[ns]",
         "type": "datetime"
        },
        {
         "name": "Customer ID",
         "rawType": "object",
         "type": "string"
        },
        {
         "name": "Gender",
         "rawType": "object",
         "type": "string"
        },
        {
         "name": "Age",
         "rawType": "object",
         "type": "string"
        },
        {
         "name": "Product Category",
         "rawType": "object",
         "type": "string"
        },
        {
         "name": "Quantity",
         "rawType": "object",
         "type": "string"
        },
        {
         "name": "Price per Unit",
         "rawType": "object",
         "type": "string"
        },
        {
         "name": "Total Amount",
         "rawType": "object",
         "type": "string"
        }
       ],
       "ref": "4d8dca41-6c96-4fd5-a899-824f1c34b703",
       "rows": [
        [
         "0",
         "522",
         "2023-01-01 00:00:00",
         "CUST522",
         "Male",
         "46",
         "Beauty",
         "3",
         "500",
         "1500"
        ],
        [
         "1",
         "559",
         "2023-01-01 00:00:00",
         "CUST559",
         "Female",
         "40",
         "Clothing",
         "4",
         "300",
         "1200"
        ],
        [
         "2",
         "522",
         "2023-01-01 00:00:00",
         "CUST522",
         "Male",
         "46",
         "Beauty",
         "3",
         "500",
         "1500"
        ],
        [
         "3",
         "559",
         "2023-01-01 00:00:00",
         "CUST559",
         "Female",
         "40",
         "Clothing",
         "4",
         "300",
         "1200"
        ],
        [
         "4",
         "180",
         "2023-01-01 00:00:00",
         "CUST180",
         "Male",
         "41",
         "Clothing",
         "3",
         "300",
         "900"
        ]
       ],
       "shape": {
        "columns": 9,
        "rows": 5
       }
      },
      "text/html": [
       "<div>\n",
       "<style scoped>\n",
       "    .dataframe tbody tr th:only-of-type {\n",
       "        vertical-align: middle;\n",
       "    }\n",
       "\n",
       "    .dataframe tbody tr th {\n",
       "        vertical-align: top;\n",
       "    }\n",
       "\n",
       "    .dataframe thead th {\n",
       "        text-align: right;\n",
       "    }\n",
       "</style>\n",
       "<table border=\"1\" class=\"dataframe\">\n",
       "  <thead>\n",
       "    <tr style=\"text-align: right;\">\n",
       "      <th></th>\n",
       "      <th>Transaction ID</th>\n",
       "      <th>Date</th>\n",
       "      <th>Customer ID</th>\n",
       "      <th>Gender</th>\n",
       "      <th>Age</th>\n",
       "      <th>Product Category</th>\n",
       "      <th>Quantity</th>\n",
       "      <th>Price per Unit</th>\n",
       "      <th>Total Amount</th>\n",
       "    </tr>\n",
       "  </thead>\n",
       "  <tbody>\n",
       "    <tr>\n",
       "      <th>0</th>\n",
       "      <td>522</td>\n",
       "      <td>2023-01-01</td>\n",
       "      <td>CUST522</td>\n",
       "      <td>Male</td>\n",
       "      <td>46</td>\n",
       "      <td>Beauty</td>\n",
       "      <td>3</td>\n",
       "      <td>500</td>\n",
       "      <td>1500</td>\n",
       "    </tr>\n",
       "    <tr>\n",
       "      <th>1</th>\n",
       "      <td>559</td>\n",
       "      <td>2023-01-01</td>\n",
       "      <td>CUST559</td>\n",
       "      <td>Female</td>\n",
       "      <td>40</td>\n",
       "      <td>Clothing</td>\n",
       "      <td>4</td>\n",
       "      <td>300</td>\n",
       "      <td>1200</td>\n",
       "    </tr>\n",
       "    <tr>\n",
       "      <th>2</th>\n",
       "      <td>522</td>\n",
       "      <td>2023-01-01</td>\n",
       "      <td>CUST522</td>\n",
       "      <td>Male</td>\n",
       "      <td>46</td>\n",
       "      <td>Beauty</td>\n",
       "      <td>3</td>\n",
       "      <td>500</td>\n",
       "      <td>1500</td>\n",
       "    </tr>\n",
       "    <tr>\n",
       "      <th>3</th>\n",
       "      <td>559</td>\n",
       "      <td>2023-01-01</td>\n",
       "      <td>CUST559</td>\n",
       "      <td>Female</td>\n",
       "      <td>40</td>\n",
       "      <td>Clothing</td>\n",
       "      <td>4</td>\n",
       "      <td>300</td>\n",
       "      <td>1200</td>\n",
       "    </tr>\n",
       "    <tr>\n",
       "      <th>4</th>\n",
       "      <td>180</td>\n",
       "      <td>2023-01-01</td>\n",
       "      <td>CUST180</td>\n",
       "      <td>Male</td>\n",
       "      <td>41</td>\n",
       "      <td>Clothing</td>\n",
       "      <td>3</td>\n",
       "      <td>300</td>\n",
       "      <td>900</td>\n",
       "    </tr>\n",
       "  </tbody>\n",
       "</table>\n",
       "</div>"
      ],
      "text/plain": [
       "  Transaction ID       Date Customer ID  Gender Age Product Category Quantity  \\\n",
       "0            522 2023-01-01     CUST522    Male  46           Beauty        3   \n",
       "1            559 2023-01-01     CUST559  Female  40         Clothing        4   \n",
       "2            522 2023-01-01     CUST522    Male  46           Beauty        3   \n",
       "3            559 2023-01-01     CUST559  Female  40         Clothing        4   \n",
       "4            180 2023-01-01     CUST180    Male  41         Clothing        3   \n",
       "\n",
       "  Price per Unit Total Amount  \n",
       "0            500         1500  \n",
       "1            300         1200  \n",
       "2            500         1500  \n",
       "3            300         1200  \n",
       "4            300          900  "
      ]
     },
     "execution_count": 60,
     "metadata": {},
     "output_type": "execute_result"
    }
   ],
   "source": [
    "# Convert 'Date' column to datetime\n",
    "df_full['Date'] = pd.to_datetime(df['Date'], errors='coerce')\n",
    "        \n",
    "# Drop rows with invalid or missing dates\n",
    "df_full = df.dropna(subset=['Date'])\n",
    "        \n",
    "        # Sort the DataFrame by 'Date'\n",
    "df_full = df_full.sort_values('Date').reset_index(drop=True)\n",
    "        "
   ]
  },
  {
   "cell_type": "markdown",
   "id": "607381ca",
   "metadata": {},
   "source": [
    "##### Customer ID"
   ]
  },
  {
   "cell_type": "code",
   "execution_count": null,
   "id": "031cf080",
   "metadata": {},
   "outputs": [
    {
     "name": "stdout",
     "output_type": "stream",
     "text": [
      "['CUST522' 'CUST559' 'CUST180' 'CUST421' 'CUST163' 'CUST303' 'CUST979'\n",
      " 'CUST610' 'CUST231' 'CUST032']\n",
      "Missing Customer IDs: 0\n"
     ]
    },
    {
     "data": {
      "application/vnd.microsoft.datawrangler.viewer.v0+json": {
       "columns": [
        {
         "name": "index",
         "rawType": "int64",
         "type": "integer"
        },
        {
         "name": "Transaction ID",
         "rawType": "object",
         "type": "string"
        },
        {
         "name": "Date",
         "rawType": "datetime64[ns]",
         "type": "datetime"
        },
        {
         "name": "Customer ID",
         "rawType": "object",
         "type": "string"
        },
        {
         "name": "Gender",
         "rawType": "object",
         "type": "string"
        },
        {
         "name": "Age",
         "rawType": "object",
         "type": "string"
        },
        {
         "name": "Product Category",
         "rawType": "object",
         "type": "string"
        },
        {
         "name": "Quantity",
         "rawType": "object",
         "type": "string"
        },
        {
         "name": "Price per Unit",
         "rawType": "object",
         "type": "string"
        },
        {
         "name": "Total Amount",
         "rawType": "object",
         "type": "string"
        }
       ],
       "ref": "50d46d02-f5e2-4a85-a00c-de94fa831150",
       "rows": [],
       "shape": {
        "columns": 9,
        "rows": 0
       }
      },
      "text/html": [
       "<div>\n",
       "<style scoped>\n",
       "    .dataframe tbody tr th:only-of-type {\n",
       "        vertical-align: middle;\n",
       "    }\n",
       "\n",
       "    .dataframe tbody tr th {\n",
       "        vertical-align: top;\n",
       "    }\n",
       "\n",
       "    .dataframe thead th {\n",
       "        text-align: right;\n",
       "    }\n",
       "</style>\n",
       "<table border=\"1\" class=\"dataframe\">\n",
       "  <thead>\n",
       "    <tr style=\"text-align: right;\">\n",
       "      <th></th>\n",
       "      <th>Transaction ID</th>\n",
       "      <th>Date</th>\n",
       "      <th>Customer ID</th>\n",
       "      <th>Gender</th>\n",
       "      <th>Age</th>\n",
       "      <th>Product Category</th>\n",
       "      <th>Quantity</th>\n",
       "      <th>Price per Unit</th>\n",
       "      <th>Total Amount</th>\n",
       "    </tr>\n",
       "  </thead>\n",
       "  <tbody>\n",
       "  </tbody>\n",
       "</table>\n",
       "</div>"
      ],
      "text/plain": [
       "Empty DataFrame\n",
       "Columns: [Transaction ID, Date, Customer ID, Gender, Age, Product Category, Quantity, Price per Unit, Total Amount]\n",
       "Index: []"
      ]
     },
     "execution_count": 68,
     "metadata": {},
     "output_type": "execute_result"
    }
   ],
   "source": [
    "print(df_full['Customer ID'].unique()[:10])\n",
    "df_full['Customer ID'].apply(lambda x: x != x.strip()).value_counts()\n",
    "print(\"Missing Customer IDs:\", df_full['Customer ID'].isnull().sum())\n",
    "df_full[~df_full['Customer ID'].str.match(r'^CUST\\d+$')]\n",
    "\n",
    "\n"
   ]
  },
  {
   "cell_type": "code",
   "execution_count": 61,
   "id": "43d4679e",
   "metadata": {},
   "outputs": [
    {
     "data": {
      "text/plain": [
       "Index(['Transaction ID', 'Date', 'Customer ID', 'Gender', 'Age',\n",
       "       'Product Category', 'Quantity', 'Price per Unit', 'Total Amount'],\n",
       "      dtype='object')"
      ]
     },
     "execution_count": 61,
     "metadata": {},
     "output_type": "execute_result"
    }
   ],
   "source": [
    "df_full.columns"
   ]
  },
  {
   "cell_type": "markdown",
   "id": "78c1848d",
   "metadata": {},
   "source": [
    "#### 'Product Category'"
   ]
  },
  {
   "cell_type": "code",
   "execution_count": 69,
   "id": "b6be7c0a",
   "metadata": {},
   "outputs": [
    {
     "name": "stdout",
     "output_type": "stream",
     "text": [
      "Unique values in 'Product Category':\n",
      "['Beauty' 'Clothing' 'Electronics']\n",
      "\n",
      "Number of missing values: 0\n"
     ]
    }
   ],
   "source": [
    "print(\"Unique values in 'Product Category':\")\n",
    "print(df_full['Product Category'].dropna().unique())\n",
    "print(\"\\nNumber of missing values:\", df_full['Product Category'].isna().sum())"
   ]
  },
  {
   "cell_type": "markdown",
   "id": "70b1d22a",
   "metadata": {},
   "source": [
    "#### Age"
   ]
  },
  {
   "cell_type": "code",
   "execution_count": 71,
   "id": "534e0fe2",
   "metadata": {},
   "outputs": [
    {
     "name": "stdout",
     "output_type": "stream",
     "text": [
      "Unique Age values: ['46' '40' '41' '37' '64' '19' '26' '23' '30' '38' '57' '60' '58' '54'\n",
      " '51' '45' '63' '31' '27' '33' '18' '50' '53' '43' '24' '34' '42' '59'\n",
      " '49' '39' '36' '22' '56' '29' '28' '20' '47' '32' '25' '35' '21' '52'\n",
      " '48' '62' '61' '55' '44']\n",
      "Any missing values? 0\n",
      "Minimum Age: 18\n",
      "Maximum Age: 64\n"
     ]
    }
   ],
   "source": [
    "print(\"Unique Age values:\", df_full['Age'].unique())\n",
    "print(\"Any missing values?\", df_full['Age'].isna().sum())\n",
    "print(\"Minimum Age:\", df_full['Age'].min())\n",
    "print(\"Maximum Age:\", df_full['Age'].max())\n"
   ]
  }
 ],
 "metadata": {
  "kernelspec": {
   "display_name": "Python 3",
   "language": "python",
   "name": "python3"
  },
  "language_info": {
   "codemirror_mode": {
    "name": "ipython",
    "version": 3
   },
   "file_extension": ".py",
   "mimetype": "text/x-python",
   "name": "python",
   "nbconvert_exporter": "python",
   "pygments_lexer": "ipython3",
   "version": "3.11.8"
  }
 },
 "nbformat": 4,
 "nbformat_minor": 5
}
