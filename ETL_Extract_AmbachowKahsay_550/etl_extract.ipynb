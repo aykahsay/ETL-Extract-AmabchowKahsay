{
 "cells": [
  {
   "cell_type": "markdown",
   "id": "b7c75b21",
   "metadata": {},
   "source": [
    "## ETL Extract Lab - DSA 2040A"
   ]
  },
  {
   "cell_type": "markdown",
   "id": "73026fea",
   "metadata": {},
   "source": [
    "\n",
    "## Project Setup\n",
    " This notebook demonstrates:\n",
    "- Full dataset extraction\n",
    "- Incremental extraction based on last run timestamp\n",
    "- Proper ETL workflow practices\n"
   ]
  },
  {
   "cell_type": "code",
   "execution_count": 21,
   "id": "73922386",
   "metadata": {},
   "outputs": [],
   "source": [
    "#Import Required Libraries\n",
    "import pandas as pd\n",
    "from datetime import datetime"
   ]
  },
  {
   "cell_type": "markdown",
   "id": "0f3fa314",
   "metadata": {},
   "source": [
    "#### 🟨 Section 1: Full Extraction"
   ]
  },
  {
   "cell_type": "code",
   "execution_count": 41,
   "id": "8010bf75",
   "metadata": {},
   "outputs": [],
   "source": [
    "import pandas as pd\n",
    "\n",
    "def wrangle_full(csv_file):\n",
    "    \"\"\"Perform full extraction: Load dataset, show stats, sample\"\"\"\n",
    "    try:\n",
    "        df = pd.read_csv(csv_file)\n",
    "        \n",
    "        # Basic stats\n",
    "        print(\"✅ Full extraction completed successfully.\")\n",
    "        print(f\"Extracted {len(df)} rows fully.\")\n",
    "        print(f\"Number of columns: {df.shape[1]}\")\n",
    "        \n",
    "        print(\"\\n📊 Column Names:\")\n",
    "        print(df.columns.tolist())\n",
    "        \n",
    "        print(\"\\n🔍 Sample Records:\")\n",
    "        print(df.head())\n",
    "\n",
    "        return df\n",
    "    \n",
    "    except Exception as e:\n",
    "        print(\"❌ Error during full extraction:\", e)\n",
    "        return None\n",
    "\n"
   ]
  },
  {
   "cell_type": "code",
   "execution_count": 42,
   "id": "8b8a1c9d",
   "metadata": {},
   "outputs": [
    {
     "name": "stdout",
     "output_type": "stream",
     "text": [
      "✅ Full extraction completed successfully.\n",
      "Extracted 2003 rows fully.\n",
      "Number of columns: 9\n",
      "\n",
      "📊 Column Names:\n",
      "['Transaction ID', 'Date', 'Customer ID', 'Gender', 'Age', 'Product Category', 'Quantity', 'Price per Unit', 'Total Amount']\n",
      "\n",
      "🔍 Sample Records:\n",
      "  Transaction ID        Date Customer ID  Gender Age Product Category  \\\n",
      "0              1  2023-11-24     CUST001    Male  34           Beauty   \n",
      "1              2  2023-02-27     CUST002  Female  26         Clothing   \n",
      "2              3  2023-01-13     CUST003    Male  50      Electronics   \n",
      "3              4  2023-05-21     CUST004    Male  37         Clothing   \n",
      "4              5  2023-05-06     CUST005    Male  30           Beauty   \n",
      "\n",
      "  Quantity Price per Unit Total Amount  \n",
      "0        3             50          150  \n",
      "1        2            500         1000  \n",
      "2        1             30           30  \n",
      "3        1            500          500  \n",
      "4        2             50          100  \n"
     ]
    }
   ],
   "source": [
    "# Usage\n",
    "file_path = \"custom_data.csv\"\n",
    "df_full = wrangle_full(file_path)"
   ]
  },
  {
   "cell_type": "code",
   "execution_count": 24,
   "id": "b8546dfa",
   "metadata": {},
   "outputs": [
    {
     "name": "stdout",
     "output_type": "stream",
     "text": [
      "  Transaction ID        Date Customer ID  Gender Age Product Category  \\\n",
      "0              1  2023-11-24     CUST001    Male  34           Beauty   \n",
      "1              2  2023-02-27     CUST002  Female  26         Clothing   \n",
      "2              3  2023-01-13     CUST003    Male  50      Electronics   \n",
      "3              4  2023-05-21     CUST004    Male  37         Clothing   \n",
      "4              5  2023-05-06     CUST005    Male  30           Beauty   \n",
      "\n",
      "  Quantity Price per Unit Total Amount  \n",
      "0        3             50          150  \n",
      "1        2            500         1000  \n",
      "2        1             30           30  \n",
      "3        1            500          500  \n",
      "4        2             50          100  \n"
     ]
    }
   ],
   "source": [
    "print(df_full.head())"
   ]
  },
  {
   "cell_type": "code",
   "execution_count": 25,
   "id": "4da7c91b",
   "metadata": {},
   "outputs": [
    {
     "name": "stdout",
     "output_type": "stream",
     "text": [
      "📊 Dataset Info:\n",
      "<class 'pandas.core.frame.DataFrame'>\n",
      "RangeIndex: 2003 entries, 0 to 2002\n",
      "Data columns (total 9 columns):\n",
      " #   Column            Non-Null Count  Dtype \n",
      "---  ------            --------------  ----- \n",
      " 0   Transaction ID    2003 non-null   object\n",
      " 1   Date              2001 non-null   object\n",
      " 2   Customer ID       2001 non-null   object\n",
      " 3   Gender            2001 non-null   object\n",
      " 4   Age               2001 non-null   object\n",
      " 5   Product Category  2001 non-null   object\n",
      " 6   Quantity          2001 non-null   object\n",
      " 7   Price per Unit    2001 non-null   object\n",
      " 8   Total Amount      2001 non-null   object\n",
      "dtypes: object(9)\n",
      "memory usage: 141.0+ KB\n",
      "None\n"
     ]
    }
   ],
   "source": [
    "print(\"📊 Dataset Info:\")\n",
    "print(df_full.info())"
   ]
  },
  {
   "cell_type": "code",
   "execution_count": 31,
   "id": "515d31a8",
   "metadata": {},
   "outputs": [
    {
     "name": "stdout",
     "output_type": "stream",
     "text": [
      "📅 Earliest date in data: 2023-01-01 00:00:00\n",
      "📅 Latest date in data: 2024-01-01 00:00:00\n"
     ]
    }
   ],
   "source": [
    "# Ensure the 'Date' column is in datetime format\n",
    "df_full['Date'] = pd.to_datetime(df_full['Date'], errors='coerce')\n",
    "\n",
    "# Drop any rows where the date could not be parsed\n",
    "df_full = df_full.dropna(subset=['Date'])\n",
    "\n",
    "# Display the earliest and latest dates\n",
    "start_date = df_full['Date'].min()\n",
    "end_date = df_full['Date'].max()\n",
    "\n",
    "print(f\"📅 Earliest date in data: {start_date}\")\n",
    "print(f\"📅 Latest date in data: {end_date}\")"
   ]
  },
  {
   "cell_type": "code",
   "execution_count": 35,
   "id": "694784fa",
   "metadata": {},
   "outputs": [
    {
     "data": {
      "application/vnd.microsoft.datawrangler.viewer.v0+json": {
       "columns": [
        {
         "name": "index",
         "rawType": "int64",
         "type": "integer"
        },
        {
         "name": "Transaction ID",
         "rawType": "object",
         "type": "string"
        },
        {
         "name": "Date",
         "rawType": "datetime64[ns]",
         "type": "datetime"
        },
        {
         "name": "Customer ID",
         "rawType": "object",
         "type": "string"
        },
        {
         "name": "Gender",
         "rawType": "object",
         "type": "string"
        },
        {
         "name": "Age",
         "rawType": "object",
         "type": "string"
        },
        {
         "name": "Product Category",
         "rawType": "object",
         "type": "string"
        },
        {
         "name": "Quantity",
         "rawType": "object",
         "type": "string"
        },
        {
         "name": "Price per Unit",
         "rawType": "object",
         "type": "string"
        },
        {
         "name": "Total Amount",
         "rawType": "object",
         "type": "string"
        }
       ],
       "ref": "5a6eb92d-bcd0-4acd-8fa7-b361d365d58b",
       "rows": [
        [
         "1990",
         "805",
         "2023-12-29 00:00:00",
         "CUST805",
         "Female",
         "30",
         "Beauty",
         "3",
         "500",
         "1500"
        ],
        [
         "1991",
         "805",
         "2023-12-29 00:00:00",
         "CUST805",
         "Female",
         "30",
         "Beauty",
         "3",
         "500",
         "1500"
        ],
        [
         "1992",
         "908",
         "2023-12-29 00:00:00",
         "CUST908",
         "Male",
         "46",
         "Beauty",
         "4",
         "300",
         "1200"
        ],
        [
         "1993",
         "908",
         "2023-12-29 00:00:00",
         "CUST908",
         "Male",
         "46",
         "Beauty",
         "4",
         "300",
         "1200"
        ],
        [
         "1994",
         "857",
         "2023-12-31 00:00:00",
         "CUST857",
         "Male",
         "60",
         "Electronics",
         "2",
         "25",
         "50"
        ],
        [
         "1995",
         "857",
         "2023-12-31 00:00:00",
         "CUST857",
         "Male",
         "60",
         "Electronics",
         "2",
         "25",
         "50"
        ],
        [
         "1996",
         "650",
         "2024-01-01 00:00:00",
         "CUST650",
         "Male",
         "55",
         "Electronics",
         "1",
         "30",
         "30"
        ],
        [
         "1997",
         "211",
         "2024-01-01 00:00:00",
         "CUST211",
         "Male",
         "42",
         "Beauty",
         "3",
         "500",
         "1500"
        ],
        [
         "1998",
         "650",
         "2024-01-01 00:00:00",
         "CUST650",
         "Male",
         "55",
         "Electronics",
         "1",
         "30",
         "30"
        ],
        [
         "1999",
         "211",
         "2024-01-01 00:00:00",
         "CUST211",
         "Male",
         "42",
         "Beauty",
         "3",
         "500",
         "1500"
        ]
       ],
       "shape": {
        "columns": 9,
        "rows": 10
       }
      },
      "text/html": [
       "<div>\n",
       "<style scoped>\n",
       "    .dataframe tbody tr th:only-of-type {\n",
       "        vertical-align: middle;\n",
       "    }\n",
       "\n",
       "    .dataframe tbody tr th {\n",
       "        vertical-align: top;\n",
       "    }\n",
       "\n",
       "    .dataframe thead th {\n",
       "        text-align: right;\n",
       "    }\n",
       "</style>\n",
       "<table border=\"1\" class=\"dataframe\">\n",
       "  <thead>\n",
       "    <tr style=\"text-align: right;\">\n",
       "      <th></th>\n",
       "      <th>Transaction ID</th>\n",
       "      <th>Date</th>\n",
       "      <th>Customer ID</th>\n",
       "      <th>Gender</th>\n",
       "      <th>Age</th>\n",
       "      <th>Product Category</th>\n",
       "      <th>Quantity</th>\n",
       "      <th>Price per Unit</th>\n",
       "      <th>Total Amount</th>\n",
       "    </tr>\n",
       "  </thead>\n",
       "  <tbody>\n",
       "    <tr>\n",
       "      <th>1990</th>\n",
       "      <td>805</td>\n",
       "      <td>2023-12-29</td>\n",
       "      <td>CUST805</td>\n",
       "      <td>Female</td>\n",
       "      <td>30</td>\n",
       "      <td>Beauty</td>\n",
       "      <td>3</td>\n",
       "      <td>500</td>\n",
       "      <td>1500</td>\n",
       "    </tr>\n",
       "    <tr>\n",
       "      <th>1991</th>\n",
       "      <td>805</td>\n",
       "      <td>2023-12-29</td>\n",
       "      <td>CUST805</td>\n",
       "      <td>Female</td>\n",
       "      <td>30</td>\n",
       "      <td>Beauty</td>\n",
       "      <td>3</td>\n",
       "      <td>500</td>\n",
       "      <td>1500</td>\n",
       "    </tr>\n",
       "    <tr>\n",
       "      <th>1992</th>\n",
       "      <td>908</td>\n",
       "      <td>2023-12-29</td>\n",
       "      <td>CUST908</td>\n",
       "      <td>Male</td>\n",
       "      <td>46</td>\n",
       "      <td>Beauty</td>\n",
       "      <td>4</td>\n",
       "      <td>300</td>\n",
       "      <td>1200</td>\n",
       "    </tr>\n",
       "    <tr>\n",
       "      <th>1993</th>\n",
       "      <td>908</td>\n",
       "      <td>2023-12-29</td>\n",
       "      <td>CUST908</td>\n",
       "      <td>Male</td>\n",
       "      <td>46</td>\n",
       "      <td>Beauty</td>\n",
       "      <td>4</td>\n",
       "      <td>300</td>\n",
       "      <td>1200</td>\n",
       "    </tr>\n",
       "    <tr>\n",
       "      <th>1994</th>\n",
       "      <td>857</td>\n",
       "      <td>2023-12-31</td>\n",
       "      <td>CUST857</td>\n",
       "      <td>Male</td>\n",
       "      <td>60</td>\n",
       "      <td>Electronics</td>\n",
       "      <td>2</td>\n",
       "      <td>25</td>\n",
       "      <td>50</td>\n",
       "    </tr>\n",
       "    <tr>\n",
       "      <th>1995</th>\n",
       "      <td>857</td>\n",
       "      <td>2023-12-31</td>\n",
       "      <td>CUST857</td>\n",
       "      <td>Male</td>\n",
       "      <td>60</td>\n",
       "      <td>Electronics</td>\n",
       "      <td>2</td>\n",
       "      <td>25</td>\n",
       "      <td>50</td>\n",
       "    </tr>\n",
       "    <tr>\n",
       "      <th>1996</th>\n",
       "      <td>650</td>\n",
       "      <td>2024-01-01</td>\n",
       "      <td>CUST650</td>\n",
       "      <td>Male</td>\n",
       "      <td>55</td>\n",
       "      <td>Electronics</td>\n",
       "      <td>1</td>\n",
       "      <td>30</td>\n",
       "      <td>30</td>\n",
       "    </tr>\n",
       "    <tr>\n",
       "      <th>1997</th>\n",
       "      <td>211</td>\n",
       "      <td>2024-01-01</td>\n",
       "      <td>CUST211</td>\n",
       "      <td>Male</td>\n",
       "      <td>42</td>\n",
       "      <td>Beauty</td>\n",
       "      <td>3</td>\n",
       "      <td>500</td>\n",
       "      <td>1500</td>\n",
       "    </tr>\n",
       "    <tr>\n",
       "      <th>1998</th>\n",
       "      <td>650</td>\n",
       "      <td>2024-01-01</td>\n",
       "      <td>CUST650</td>\n",
       "      <td>Male</td>\n",
       "      <td>55</td>\n",
       "      <td>Electronics</td>\n",
       "      <td>1</td>\n",
       "      <td>30</td>\n",
       "      <td>30</td>\n",
       "    </tr>\n",
       "    <tr>\n",
       "      <th>1999</th>\n",
       "      <td>211</td>\n",
       "      <td>2024-01-01</td>\n",
       "      <td>CUST211</td>\n",
       "      <td>Male</td>\n",
       "      <td>42</td>\n",
       "      <td>Beauty</td>\n",
       "      <td>3</td>\n",
       "      <td>500</td>\n",
       "      <td>1500</td>\n",
       "    </tr>\n",
       "  </tbody>\n",
       "</table>\n",
       "</div>"
      ],
      "text/plain": [
       "     Transaction ID       Date Customer ID  Gender Age Product Category  \\\n",
       "1990            805 2023-12-29     CUST805  Female  30           Beauty   \n",
       "1991            805 2023-12-29     CUST805  Female  30           Beauty   \n",
       "1992            908 2023-12-29     CUST908    Male  46           Beauty   \n",
       "1993            908 2023-12-29     CUST908    Male  46           Beauty   \n",
       "1994            857 2023-12-31     CUST857    Male  60      Electronics   \n",
       "1995            857 2023-12-31     CUST857    Male  60      Electronics   \n",
       "1996            650 2024-01-01     CUST650    Male  55      Electronics   \n",
       "1997            211 2024-01-01     CUST211    Male  42           Beauty   \n",
       "1998            650 2024-01-01     CUST650    Male  55      Electronics   \n",
       "1999            211 2024-01-01     CUST211    Male  42           Beauty   \n",
       "\n",
       "     Quantity Price per Unit Total Amount  \n",
       "1990        3            500         1500  \n",
       "1991        3            500         1500  \n",
       "1992        4            300         1200  \n",
       "1993        4            300         1200  \n",
       "1994        2             25           50  \n",
       "1995        2             25           50  \n",
       "1996        1             30           30  \n",
       "1997        3            500         1500  \n",
       "1998        1             30           30  \n",
       "1999        3            500         1500  "
      ]
     },
     "execution_count": 35,
     "metadata": {},
     "output_type": "execute_result"
    }
   ],
   "source": [
    "# Sort by Date in ascending order\n",
    "df_full = df_full.sort_values(by='Date', ascending=True).reset_index(drop=True)\n",
    "df_full.tail(10)"
   ]
  },
  {
   "cell_type": "markdown",
   "id": "77fa1fbd",
   "metadata": {},
   "source": [
    "###  🟨 Section 2: Incremental Extraction"
   ]
  },
  {
   "cell_type": "markdown",
   "id": "889e2a7a",
   "metadata": {},
   "source": [
    "🕒 Incremental Extraction using Timestamp\n",
    "\n",
    "In this ETL pipeline, incremental extraction is based on a saved timestamp stored in the `last_extraction.txt` file. \n",
    "\n",
    "For this lab, I manually set the timestamp to:"
   ]
  },
  {
   "cell_type": "code",
   "execution_count": 46,
   "id": "2b09e733",
   "metadata": {},
   "outputs": [],
   "source": [
    "def read_last_extraction_time(file_path='last_extraction.txt'):\n",
    "    try:\n",
    "        with open(file_path, 'r') as f:\n",
    "            return datetime.strptime(f.read().strip(), '%Y-%m-%d %H:%M:%S')\n",
    "    except (FileNotFoundError, ValueError):\n",
    "        return datetime.min\n",
    "\n",
    "def wrangle_incremental(csv_file, timestamp_file='last_extraction.txt'):\n",
    "    \"\"\"Extract only new or updated records based on last extraction time\"\"\"\n",
    "    try:\n",
    "        df = pd.read_csv(csv_file)\n",
    "\n",
    "        # Try parsing the Date column safely\n",
    "        df['Date'] = pd.to_datetime(df['Date'], errors='coerce', format='%Y-%m-%d')\n",
    "\n",
    "        # Drop rows where date couldn't be parsed\n",
    "        df = df.dropna(subset=['Date'])\n",
    "\n",
    "        # Ensure dates are sorted\n",
    "        df = df.sort_values('Date')\n",
    "\n",
    "        last_time = read_last_extraction_time(timestamp_file)\n",
    "        new_data = df[df['Date'] > last_time]\n",
    "\n",
    "        print(f\"✅ Extracted {len(new_data)} rows incrementally since last check ({last_time}).\")\n",
    "        return new_data\n",
    "    except Exception as e:\n",
    "        print(\"❌ Error during incremental extraction:\", e)\n",
    "        return pd.DataFrame()\n"
   ]
  },
  {
   "cell_type": "markdown",
   "id": "188ab3c6",
   "metadata": {},
   "source": [
    "### 🟩 Section 3: Save New Timestamp"
   ]
  },
  {
   "cell_type": "code",
   "execution_count": 47,
   "id": "f01ba098",
   "metadata": {},
   "outputs": [],
   "source": [
    "def update_extraction_time(file_path='last_extraction.txt', timestamp=None):\n",
    "    \"\"\"Updates the last_extraction.txt file with current or custom timestamp\"\"\"\n",
    "    try:\n",
    "        if timestamp is None:\n",
    "            timestamp = datetime.now()\n",
    "        with open(file_path, 'w') as f:\n",
    "            f.write(timestamp.strftime('%Y-%m-%d %H:%M:%S'))\n",
    "        print(f\"✅ Updated last extraction time to: {timestamp}\")\n",
    "    except Exception as e:\n",
    "        print(\"❌ Error writing to timestamp file:\", e)\n"
   ]
  },
  {
   "cell_type": "markdown",
   "id": "1884aca5",
   "metadata": {},
   "source": [
    "#### ✅ Example Incremental Extraction"
   ]
  },
  {
   "cell_type": "code",
   "execution_count": 48,
   "id": "b1aed064",
   "metadata": {},
   "outputs": [
    {
     "name": "stdout",
     "output_type": "stream",
     "text": [
      "✅ Extracted 0 rows incrementally since last check (2025-06-30 20:18:52).\n"
     ]
    }
   ],
   "source": [
    "# Extract new data since last time\n",
    "new_data = wrangle_incremental(\"custom_data.csv\")\n",
    "\n",
    "# Update the timestamp only if we found new data\n",
    "if not new_data.empty:\n",
    "    update_extraction_time()\n"
   ]
  }
 ],
 "metadata": {
  "kernelspec": {
   "display_name": "Python 3",
   "language": "python",
   "name": "python3"
  },
  "language_info": {
   "codemirror_mode": {
    "name": "ipython",
    "version": 3
   },
   "file_extension": ".py",
   "mimetype": "text/x-python",
   "name": "python",
   "nbconvert_exporter": "python",
   "pygments_lexer": "ipython3",
   "version": "3.11.8"
  }
 },
 "nbformat": 4,
 "nbformat_minor": 5
}
